{
  "nbformat": 4,
  "nbformat_minor": 0,
  "metadata": {
    "colab": {
      "private_outputs": true,
      "provenance": []
    },
    "kernelspec": {
      "name": "python3",
      "display_name": "Python 3"
    },
    "language_info": {
      "name": "python"
    }
  },
  "cells": [
    {
      "cell_type": "code",
      "execution_count": null,
      "metadata": {
        "id": "XMx7PlzEuOhK"
      },
      "outputs": [],
      "source": [
        "# Step 1: Import Libraries\n",
        "import pandas as pd\n",
        "\n",
        "# Step 2: Load Dataset\n",
        "df = pd.read_csv('/content/drive/MyDrive/Mall_Customers.csv')\n",
        "\n",
        "# Step 3: Basic Info\n",
        "print(\"Initial Info:\")\n",
        "print(df.info())\n",
        "print(df.head())\n",
        "\n",
        "# Step 4: Check Missing Values\n",
        "print(\"\\nMissing values:\\n\", df.isnull().sum())\n",
        "\n",
        "# Step 5: Remove Duplicates\n",
        "df.drop_duplicates(inplace=True)\n",
        "\n",
        "# Step 6: Standardize Gender Column\n",
        "df['Gender'] = df['Gender'].str.lower().str.strip()\n",
        "\n",
        "# Step 7: Rename Columns for Consistency\n",
        "df.columns = df.columns.str.strip().str.lower().str.replace(\" \", \"_\")\n",
        "\n",
        "# Step 8: Check and Fix Data Types\n",
        "print(\"\\nData Types Before Fixing:\")\n",
        "print(df.dtypes)\n",
        "\n",
        "# Age should be int (it already is), and you can rename income column for clarity\n",
        "df.rename(columns={'annual_income_(k$)': 'annual_income_kusd'}, inplace=True)\n",
        "\n",
        "# Step 9: Save Cleaned Data\n",
        "df.to_csv(\"cleaned_mall_customers.csv\", index=False)\n",
        "\n",
        "# Step 10: Final Info\n",
        "print(\"\\nCleaned Dataset Info:\")\n",
        "print(df.info())\n",
        "# Step 11: Print the first few rows to check\n",
        "print(\"\\n👀 First 5 rows of cleaned data:\")\n",
        "print(df.head())"
      ]
    }
  ]
}